{
 "cells": [
  {
   "metadata": {
    "ExecuteTime": {
     "end_time": "2025-07-17T14:01:35.964850Z",
     "start_time": "2025-07-17T14:01:35.274566Z"
    }
   },
   "cell_type": "code",
   "source": [
    "import numpy as np\n",
    "import random\n",
    "\n",
    "from TennisRPG import *"
   ],
   "id": "4cc7e05c8ac036c5",
   "outputs": [],
   "execution_count": 1
  },
  {
   "metadata": {
    "ExecuteTime": {
     "end_time": "2025-07-17T14:01:37.234306Z",
     "start_time": "2025-07-17T14:01:36.958489Z"
    }
   },
   "cell_type": "code",
   "source": [
    "dico = Personnage.generer_pnj(10,\"m\")\n",
    "classement = Classement.Classement(dico, preliminaire=True)"
   ],
   "id": "7ec1b9c2f0b14bb9",
   "outputs": [],
   "execution_count": 2
  },
  {
   "metadata": {
    "ExecuteTime": {
     "end_time": "2025-07-17T14:01:41.105789Z",
     "start_time": "2025-07-17T14:01:41.096696Z"
    }
   },
   "cell_type": "code",
   "source": "dico",
   "id": "bacbf08dfb57b87d",
   "outputs": [
    {
     "data": {
      "text/plain": [
       "{'Salvador Martins': <TennisRPG.Personnage.Personnage at 0x24c632cc410>,\n",
       " 'Marcin Ciesiółka': <TennisRPG.Personnage.Personnage at 0x24c633ce000>,\n",
       " 'Napoleon Gregoropoulos': <TennisRPG.Personnage.Personnage at 0x24c633584d0>,\n",
       " 'Ermes Gonzaga': <TennisRPG.Personnage.Personnage at 0x24c6374ac60>,\n",
       " 'Damiano Stefanelli': <TennisRPG.Personnage.Personnage at 0x24c63457290>,\n",
       " 'Aleks Babič': <TennisRPG.Personnage.Personnage at 0x24c63862960>,\n",
       " 'Ling  Zhong Cun ': <TennisRPG.Personnage.Personnage at 0x24c6391edb0>,\n",
       " 'Glenn Gilhooly': <TennisRPG.Personnage.Personnage at 0x24c6395b050>,\n",
       " 'Pilip Ljashko': <TennisRPG.Personnage.Personnage at 0x24c633d5a60>,\n",
       " 'Ernest Vidovič': <TennisRPG.Personnage.Personnage at 0x24c6395b200>}"
      ]
     },
     "execution_count": 3,
     "metadata": {},
     "output_type": "execute_result"
    }
   ],
   "execution_count": 3
  },
  {
   "metadata": {
    "ExecuteTime": {
     "end_time": "2025-07-17T14:01:47.418459Z",
     "start_time": "2025-07-17T14:01:47.414459Z"
    }
   },
   "cell_type": "code",
   "source": "dico[\"Salvador Martins\"].id_card(classement)",
   "id": "fdfcdf0b0e5190c9",
   "outputs": [
    {
     "name": "stdout",
     "output_type": "stream",
     "text": [
      "┌────────────────────────────────────────────┐\n",
      "│                  ID CARD                   │\n",
      "├────────────────────────────────────────────┤\n",
      "│ Nom     : Martins                          │\n",
      "│ Prénom  : Salvador                         │\n",
      "│ Taille  : 195 cm                           │\n",
      "│ Nationalité  : Portugal                    │\n",
      "│ Main    : Droite                           │\n",
      "│ Revers  : Deux mains                       │\n",
      "├────────────────────────────────────────────┤\n",
      "│                 SITUATION                  │\n",
      "├────────────────────────────────────────────┤\n",
      "│ Classement  ATP  : 6                       │\n",
      "│ Points ATP  : 0                            │\n",
      "│ ELO     : 1200                             │\n",
      "│ Niveau  : 1                                │\n",
      "│ XP      : ░░░░░░░░░░░░░░░░░░░░       0/200 │\n",
      "│ Fatigue : 0                                │\n",
      "│ Blessure: False │\n",
      "├────────────────────────────────────────────┤\n",
      "│                STATISTIQUES                │\n",
      "├────────────────────────────────────────────┤\n",
      "│ Coup droit: ▓▓▓▓▓▓                      30 │\n",
      "│ Revers    : ▓▓▓▓▓▓                      30 │\n",
      "│ Service   : ▓▓▓▓▓▓                      34 │\n",
      "│ Volée     : ▓▓▓▓▓▓                      30 │\n",
      "│ Puissance : ▓▓▓▓▓▓                      32 │\n",
      "│ Vitesse   : ▓▓▓▓▓                       28 │\n",
      "│ Endurance : ▓▓▓▓▓                       28 │\n",
      "│ Réflexes  : ▓▓▓▓▓▓                      30 │\n",
      "└────────────────────────────────────────────┘\n"
     ]
    }
   ],
   "execution_count": 4
  },
  {
   "metadata": {
    "ExecuteTime": {
     "end_time": "2025-07-17T14:02:01.027458Z",
     "start_time": "2025-07-17T14:02:01.023458Z"
    }
   },
   "cell_type": "code",
   "source": "dico[\"Ermes Gonzaga\"].id_card(classement)",
   "id": "be173da7f9ce39e8",
   "outputs": [
    {
     "name": "stdout",
     "output_type": "stream",
     "text": [
      "┌────────────────────────────────────────────┐\n",
      "│                  ID CARD                   │\n",
      "├────────────────────────────────────────────┤\n",
      "│ Nom     : Gonzaga                          │\n",
      "│ Prénom  : Ermes                            │\n",
      "│ Taille  : 179 cm                           │\n",
      "│ Nationalité  : Italy                       │\n",
      "│ Main    : Droite                           │\n",
      "│ Revers  : Deux mains                       │\n",
      "├────────────────────────────────────────────┤\n",
      "│                 SITUATION                  │\n",
      "├────────────────────────────────────────────┤\n",
      "│ Classement  ATP  : 7                       │\n",
      "│ Points ATP  : 0                            │\n",
      "│ ELO     : 1048                             │\n",
      "│ Niveau  : 11                               │\n",
      "│ XP      : ░░░░░░░░░░░░░░░░░░░░      0/3553 │\n",
      "│ Fatigue : 0                                │\n",
      "│ Blessure: False │\n",
      "├────────────────────────────────────────────┤\n",
      "│                STATISTIQUES                │\n",
      "├────────────────────────────────────────────┤\n",
      "│ Coup droit: ▓▓▓▓▓▓▓                     38 │\n",
      "│ Revers    : ▓▓▓▓▓▓▓                     39 │\n",
      "│ Service   : ▓▓▓▓▓▓▓▓                    41 │\n",
      "│ Volée     : ▓▓▓▓▓▓▓                     37 │\n",
      "│ Puissance : ▓▓▓▓▓▓▓                     38 │\n",
      "│ Vitesse   : ▓▓▓▓▓▓▓                     37 │\n",
      "│ Endurance : ▓▓▓▓▓▓                      33 │\n",
      "│ Réflexes  : ▓▓▓▓▓▓▓                     35 │\n",
      "└────────────────────────────────────────────┘\n"
     ]
    }
   ],
   "execution_count": 5
  },
  {
   "metadata": {
    "ExecuteTime": {
     "end_time": "2025-07-17T14:02:29.930105Z",
     "start_time": "2025-07-17T14:02:29.832926Z"
    }
   },
   "cell_type": "code",
   "source": [
    "tournoi = Tournois.ATPFinals(\"ATP Finals\", \"Moscow\", 10, 1000)\n",
    "Tournois.Tournoi.simuler_match(tournoi, dico[\"Salvador Martins\"], dico[\"Ermes Gonzaga\"])"
   ],
   "id": "5ccee8ed75de1978",
   "outputs": [
    {
     "ename": "AttributeError",
     "evalue": "'Personnage' object has no attribute 'peut_jouer'",
     "output_type": "error",
     "traceback": [
      "\u001B[1;31m---------------------------------------------------------------------------\u001B[0m",
      "\u001B[1;31mAttributeError\u001B[0m                            Traceback (most recent call last)",
      "Cell \u001B[1;32mIn[7], line 2\u001B[0m\n\u001B[0;32m      1\u001B[0m tournoi \u001B[38;5;241m=\u001B[39m Tournois\u001B[38;5;241m.\u001B[39mATPFinals(\u001B[38;5;124m\"\u001B[39m\u001B[38;5;124mATP Finals\u001B[39m\u001B[38;5;124m\"\u001B[39m, \u001B[38;5;124m\"\u001B[39m\u001B[38;5;124mMoscow\u001B[39m\u001B[38;5;124m\"\u001B[39m, \u001B[38;5;241m10\u001B[39m, \u001B[38;5;241m1000\u001B[39m)\n\u001B[1;32m----> 2\u001B[0m Tournois\u001B[38;5;241m.\u001B[39mTournoi\u001B[38;5;241m.\u001B[39msimuler_match(tournoi, dico[\u001B[38;5;124m\"\u001B[39m\u001B[38;5;124mSalvador Martins\u001B[39m\u001B[38;5;124m\"\u001B[39m], dico[\u001B[38;5;124m\"\u001B[39m\u001B[38;5;124mErmes Gonzaga\u001B[39m\u001B[38;5;124m\"\u001B[39m])\n",
      "File \u001B[1;32m~\\DataspellProjects\\TennisRPG\\TennisRPG\\Tournois.py:177\u001B[0m, in \u001B[0;36mTournoi.simuler_match\u001B[1;34m(self, joueur1, joueur2)\u001B[0m\n\u001B[0;32m    175\u001B[0m \u001B[38;5;28;01mdef\u001B[39;00m \u001B[38;5;21msimuler_match\u001B[39m(\u001B[38;5;28mself\u001B[39m, joueur1, joueur2):\n\u001B[0;32m    176\u001B[0m \t\u001B[38;5;66;03m# Gère les abandons en tournoi si un (ou les deux) joueurs sont blessés\u001B[39;00m\n\u001B[1;32m--> 177\u001B[0m \tjoueur1_peut_jouer \u001B[38;5;241m=\u001B[39m joueur1\u001B[38;5;241m.\u001B[39mpeut_jouer()\n\u001B[0;32m    178\u001B[0m \tjoueur2_peut_jouer \u001B[38;5;241m=\u001B[39m joueur2\u001B[38;5;241m.\u001B[39mpeut_jouer()\n\u001B[0;32m    180\u001B[0m \t\u001B[38;5;28;01mif\u001B[39;00m \u001B[38;5;129;01mnot\u001B[39;00m joueur1_peut_jouer \u001B[38;5;129;01mand\u001B[39;00m \u001B[38;5;129;01mnot\u001B[39;00m joueur2_peut_jouer:\n\u001B[0;32m    181\u001B[0m \t\t\u001B[38;5;66;03m# Les deux joueurs sont blessés,\u001B[39;00m\n",
      "\u001B[1;31mAttributeError\u001B[0m: 'Personnage' object has no attribute 'peut_jouer'"
     ]
    }
   ],
   "execution_count": 7
  },
  {
   "metadata": {
    "ExecuteTime": {
     "end_time": "2025-07-17T13:58:38.469883Z",
     "start_time": "2025-07-17T13:58:38.466330Z"
    }
   },
   "cell_type": "code",
   "source": "classement",
   "id": "ff271632d37314f4",
   "outputs": [
    {
     "data": {
      "text/plain": [
       "<TennisRPG.Classement.Classement at 0x1f33ca2a9f0>"
      ]
     },
     "execution_count": 435,
     "metadata": {},
     "output_type": "execute_result"
    }
   ],
   "execution_count": 435
  },
  {
   "metadata": {
    "ExecuteTime": {
     "end_time": "2025-07-17T12:24:33.091124Z",
     "start_time": "2025-07-17T12:24:30.583905Z"
    }
   },
   "cell_type": "code",
   "source": [
    "%%timeit\n",
    "random.randint(1, 3)"
   ],
   "id": "ff01b81bf4c6ab7",
   "outputs": [
    {
     "name": "stdout",
     "output_type": "stream",
     "text": [
      "309 ns ± 13.8 ns per loop (mean ± std. dev. of 7 runs, 1,000,000 loops each)\n"
     ]
    }
   ],
   "execution_count": 125
  },
  {
   "metadata": {
    "ExecuteTime": {
     "end_time": "2025-07-17T12:24:47.633536Z",
     "start_time": "2025-07-17T12:24:37.532758Z"
    }
   },
   "cell_type": "code",
   "source": [
    "%%timeit\n",
    "np.random.randint(1,3)"
   ],
   "id": "6b07987a2e4cb639",
   "outputs": [
    {
     "name": "stdout",
     "output_type": "stream",
     "text": [
      "1.25 μs ± 10 ns per loop (mean ± std. dev. of 7 runs, 1,000,000 loops each)\n"
     ]
    }
   ],
   "execution_count": 126
  },
  {
   "cell_type": "code",
   "id": "initial_id",
   "metadata": {
    "collapsed": true,
    "ExecuteTime": {
     "end_time": "2025-07-17T12:19:01.054797Z",
     "start_time": "2025-07-17T12:19:01.048927Z"
    }
   },
   "source": [
    "joueur1_elo = 2246.4 #Alcaraz\n",
    "joueur2_elo = 1972.3 #Dimitrov\n",
    "sets_gagnants = 2 # tournoi atp classique\n",
    "\n",
    "# Proba que le joueur 1 gagne\n",
    "proba1 = 1 / (1 + 10 ** ((joueur2_elo - joueur1_elo) / 400))\n",
    "\n",
    "proba1\n",
    "\n",
    "# tirage = np.random.rand(1000)\n",
    "\n",
    "sets_joueur1, sets_joueur2 = 0, 0\n",
    "\n",
    "# Reprendre pour une gestion de match au niveau du jeu et pas du set\n",
    "while max(sets_joueur1, sets_joueur2) < sets_gagnants:\n",
    "\tif random() < proba1:\n",
    "\t\tsets_joueur1 += 1\n",
    "\telse:\n",
    "\t\tsets_joueur2 += 1\n",
    "\n",
    "sets_joueur1, sets_joueur2"
   ],
   "outputs": [
    {
     "data": {
      "text/plain": [
       "(2, 1)"
      ]
     },
     "execution_count": 121,
     "metadata": {},
     "output_type": "execute_result"
    }
   ],
   "execution_count": 121
  },
  {
   "metadata": {
    "ExecuteTime": {
     "end_time": "2025-07-17T12:18:27.761334Z",
     "start_time": "2025-07-17T12:18:27.755106Z"
    }
   },
   "cell_type": "code",
   "source": "sets_joueur1, sets_joueur2",
   "id": "a5cbdc6b8a2448c8",
   "outputs": [
    {
     "data": {
      "text/plain": [
       "(2, 0)"
      ]
     },
     "execution_count": 14,
     "metadata": {},
     "output_type": "execute_result"
    }
   ],
   "execution_count": 14
  },
  {
   "metadata": {
    "ExecuteTime": {
     "end_time": "2025-07-17T13:04:23.162561Z",
     "start_time": "2025-07-17T13:04:23.159709Z"
    }
   },
   "cell_type": "code",
   "source": "100 * 100",
   "id": "3fa10a04066df6e4",
   "outputs": [
    {
     "data": {
      "text/plain": [
       "10000"
      ]
     },
     "execution_count": 313,
     "metadata": {},
     "output_type": "execute_result"
    }
   ],
   "execution_count": 313
  },
  {
   "metadata": {
    "ExecuteTime": {
     "end_time": "2025-07-17T13:21:53.213929Z",
     "start_time": "2025-07-17T13:21:53.209586Z"
    }
   },
   "cell_type": "code",
   "source": [
    "def probas_participer(classement, fatigue, cat):\n",
    "\t# ---- 1. Score de motivation (0.0 – 1.0) ---------------------------\n",
    "\tif cat == 1:  # Grand Chelem : tout le monde veut jouer\n",
    "\t\tmotivation = 1.0\n",
    "\telif cat == 2:  # Masters 1000\n",
    "\t\tmotivation = 1.0\n",
    "\telif cat == 3:  # ATP 500\n",
    "\t\tmotivation = 0.5\n",
    "\telif cat == 4:  # ATP 250\n",
    "\t\tmotivation = 0.25\n",
    "\telse:  # Challengers (cat >= 5)\n",
    "\t\tmotivation = 0.1\n",
    "\n",
    "\t# ---- 2. Malus de fatigue ------------------------------------------\n",
    "\t#   Fatigue ≤ 40      : 0\n",
    "\t#   40 < f ≤ 60       : -0.10\n",
    "\t#   60 < f ≤ 75       : -0.25\n",
    "\t#   75 < f ≤ 85       : -0.40\n",
    "\t#   85 < f ≤ 95       : -0.60\n",
    "\t#   f > 95            : -1.00 (forfait assuré)\n",
    "\tf = fatigue\n",
    "\tif f <= 40:\n",
    "\t\tmalus = 0.0\n",
    "\telif f <= 60:\n",
    "\t\tmalus = -0.10\n",
    "\telif f <= 75:\n",
    "\t\tmalus = -0.25\n",
    "\telif f <= 85:\n",
    "\t\tmalus = -0.40\n",
    "\telif f <= 95:\n",
    "\t\tmalus = -0.60\n",
    "\telse:\n",
    "\t\tmalus = -1.0\n",
    "\n",
    "\treturn max(0.0, min(1.0, motivation + malus))"
   ],
   "id": "ecd104ca8d531bb8",
   "outputs": [],
   "execution_count": 362
  },
  {
   "metadata": {
    "ExecuteTime": {
     "end_time": "2025-07-17T13:17:33.248962Z",
     "start_time": "2025-07-17T13:17:33.234231Z"
    }
   },
   "cell_type": "code",
   "source": [
    "import pandas as pd\n",
    "\n",
    "fatigue = [5*i for i in range(0,21)]\n",
    "classement = [1+10*j for j in range(0,100)]\n",
    "data = [[probas_participer(j,i, cat=4) for i in fatigue] for j in classement]\n",
    "\n",
    "df = pd.DataFrame(data, index=classement, columns=fatigue)\n",
    "df"
   ],
   "id": "5c5af402998cda17",
   "outputs": [
    {
     "data": {
      "text/plain": [
       "     0    5    10   15   20   25   30   35   40   45   ...  55   60    65   \\\n",
       "1    0.5  0.5  0.5  0.5  0.5  0.5  0.5  0.5  0.5  0.4  ...  0.4  0.4  0.25   \n",
       "11   0.5  0.5  0.5  0.5  0.5  0.5  0.5  0.5  0.5  0.4  ...  0.4  0.4  0.25   \n",
       "21   0.7  0.7  0.7  0.7  0.7  0.7  0.7  0.7  0.7  0.6  ...  0.6  0.6  0.45   \n",
       "31   0.7  0.7  0.7  0.7  0.7  0.7  0.7  0.7  0.7  0.6  ...  0.6  0.6  0.45   \n",
       "41   0.7  0.7  0.7  0.7  0.7  0.7  0.7  0.7  0.7  0.6  ...  0.6  0.6  0.45   \n",
       "..   ...  ...  ...  ...  ...  ...  ...  ...  ...  ...  ...  ...  ...   ...   \n",
       "951  0.9  0.9  0.9  0.9  0.9  0.9  0.9  0.9  0.9  0.8  ...  0.8  0.8  0.65   \n",
       "961  0.9  0.9  0.9  0.9  0.9  0.9  0.9  0.9  0.9  0.8  ...  0.8  0.8  0.65   \n",
       "971  0.9  0.9  0.9  0.9  0.9  0.9  0.9  0.9  0.9  0.8  ...  0.8  0.8  0.65   \n",
       "981  0.9  0.9  0.9  0.9  0.9  0.9  0.9  0.9  0.9  0.8  ...  0.8  0.8  0.65   \n",
       "991  0.9  0.9  0.9  0.9  0.9  0.9  0.9  0.9  0.9  0.8  ...  0.8  0.8  0.65   \n",
       "\n",
       "      70    75   80   85   90   95   100  \n",
       "1    0.25  0.25  0.1  0.1  0.0  0.0  0.0  \n",
       "11   0.25  0.25  0.1  0.1  0.0  0.0  0.0  \n",
       "21   0.45  0.45  0.3  0.3  0.1  0.1  0.0  \n",
       "31   0.45  0.45  0.3  0.3  0.1  0.1  0.0  \n",
       "41   0.45  0.45  0.3  0.3  0.1  0.1  0.0  \n",
       "..    ...   ...  ...  ...  ...  ...  ...  \n",
       "951  0.65  0.65  0.5  0.5  0.3  0.3  0.0  \n",
       "961  0.65  0.65  0.5  0.5  0.3  0.3  0.0  \n",
       "971  0.65  0.65  0.5  0.5  0.3  0.3  0.0  \n",
       "981  0.65  0.65  0.5  0.5  0.3  0.3  0.0  \n",
       "991  0.65  0.65  0.5  0.5  0.3  0.3  0.0  \n",
       "\n",
       "[100 rows x 21 columns]"
      ],
      "text/html": [
       "<div>\n",
       "<style scoped>\n",
       "    .dataframe tbody tr th:only-of-type {\n",
       "        vertical-align: middle;\n",
       "    }\n",
       "\n",
       "    .dataframe tbody tr th {\n",
       "        vertical-align: top;\n",
       "    }\n",
       "\n",
       "    .dataframe thead th {\n",
       "        text-align: right;\n",
       "    }\n",
       "</style>\n",
       "<table border=\"1\" class=\"dataframe\">\n",
       "  <thead>\n",
       "    <tr style=\"text-align: right;\">\n",
       "      <th></th>\n",
       "      <th>0</th>\n",
       "      <th>5</th>\n",
       "      <th>10</th>\n",
       "      <th>15</th>\n",
       "      <th>20</th>\n",
       "      <th>25</th>\n",
       "      <th>30</th>\n",
       "      <th>35</th>\n",
       "      <th>40</th>\n",
       "      <th>45</th>\n",
       "      <th>...</th>\n",
       "      <th>55</th>\n",
       "      <th>60</th>\n",
       "      <th>65</th>\n",
       "      <th>70</th>\n",
       "      <th>75</th>\n",
       "      <th>80</th>\n",
       "      <th>85</th>\n",
       "      <th>90</th>\n",
       "      <th>95</th>\n",
       "      <th>100</th>\n",
       "    </tr>\n",
       "  </thead>\n",
       "  <tbody>\n",
       "    <tr>\n",
       "      <th>1</th>\n",
       "      <td>0.5</td>\n",
       "      <td>0.5</td>\n",
       "      <td>0.5</td>\n",
       "      <td>0.5</td>\n",
       "      <td>0.5</td>\n",
       "      <td>0.5</td>\n",
       "      <td>0.5</td>\n",
       "      <td>0.5</td>\n",
       "      <td>0.5</td>\n",
       "      <td>0.4</td>\n",
       "      <td>...</td>\n",
       "      <td>0.4</td>\n",
       "      <td>0.4</td>\n",
       "      <td>0.25</td>\n",
       "      <td>0.25</td>\n",
       "      <td>0.25</td>\n",
       "      <td>0.1</td>\n",
       "      <td>0.1</td>\n",
       "      <td>0.0</td>\n",
       "      <td>0.0</td>\n",
       "      <td>0.0</td>\n",
       "    </tr>\n",
       "    <tr>\n",
       "      <th>11</th>\n",
       "      <td>0.5</td>\n",
       "      <td>0.5</td>\n",
       "      <td>0.5</td>\n",
       "      <td>0.5</td>\n",
       "      <td>0.5</td>\n",
       "      <td>0.5</td>\n",
       "      <td>0.5</td>\n",
       "      <td>0.5</td>\n",
       "      <td>0.5</td>\n",
       "      <td>0.4</td>\n",
       "      <td>...</td>\n",
       "      <td>0.4</td>\n",
       "      <td>0.4</td>\n",
       "      <td>0.25</td>\n",
       "      <td>0.25</td>\n",
       "      <td>0.25</td>\n",
       "      <td>0.1</td>\n",
       "      <td>0.1</td>\n",
       "      <td>0.0</td>\n",
       "      <td>0.0</td>\n",
       "      <td>0.0</td>\n",
       "    </tr>\n",
       "    <tr>\n",
       "      <th>21</th>\n",
       "      <td>0.7</td>\n",
       "      <td>0.7</td>\n",
       "      <td>0.7</td>\n",
       "      <td>0.7</td>\n",
       "      <td>0.7</td>\n",
       "      <td>0.7</td>\n",
       "      <td>0.7</td>\n",
       "      <td>0.7</td>\n",
       "      <td>0.7</td>\n",
       "      <td>0.6</td>\n",
       "      <td>...</td>\n",
       "      <td>0.6</td>\n",
       "      <td>0.6</td>\n",
       "      <td>0.45</td>\n",
       "      <td>0.45</td>\n",
       "      <td>0.45</td>\n",
       "      <td>0.3</td>\n",
       "      <td>0.3</td>\n",
       "      <td>0.1</td>\n",
       "      <td>0.1</td>\n",
       "      <td>0.0</td>\n",
       "    </tr>\n",
       "    <tr>\n",
       "      <th>31</th>\n",
       "      <td>0.7</td>\n",
       "      <td>0.7</td>\n",
       "      <td>0.7</td>\n",
       "      <td>0.7</td>\n",
       "      <td>0.7</td>\n",
       "      <td>0.7</td>\n",
       "      <td>0.7</td>\n",
       "      <td>0.7</td>\n",
       "      <td>0.7</td>\n",
       "      <td>0.6</td>\n",
       "      <td>...</td>\n",
       "      <td>0.6</td>\n",
       "      <td>0.6</td>\n",
       "      <td>0.45</td>\n",
       "      <td>0.45</td>\n",
       "      <td>0.45</td>\n",
       "      <td>0.3</td>\n",
       "      <td>0.3</td>\n",
       "      <td>0.1</td>\n",
       "      <td>0.1</td>\n",
       "      <td>0.0</td>\n",
       "    </tr>\n",
       "    <tr>\n",
       "      <th>41</th>\n",
       "      <td>0.7</td>\n",
       "      <td>0.7</td>\n",
       "      <td>0.7</td>\n",
       "      <td>0.7</td>\n",
       "      <td>0.7</td>\n",
       "      <td>0.7</td>\n",
       "      <td>0.7</td>\n",
       "      <td>0.7</td>\n",
       "      <td>0.7</td>\n",
       "      <td>0.6</td>\n",
       "      <td>...</td>\n",
       "      <td>0.6</td>\n",
       "      <td>0.6</td>\n",
       "      <td>0.45</td>\n",
       "      <td>0.45</td>\n",
       "      <td>0.45</td>\n",
       "      <td>0.3</td>\n",
       "      <td>0.3</td>\n",
       "      <td>0.1</td>\n",
       "      <td>0.1</td>\n",
       "      <td>0.0</td>\n",
       "    </tr>\n",
       "    <tr>\n",
       "      <th>...</th>\n",
       "      <td>...</td>\n",
       "      <td>...</td>\n",
       "      <td>...</td>\n",
       "      <td>...</td>\n",
       "      <td>...</td>\n",
       "      <td>...</td>\n",
       "      <td>...</td>\n",
       "      <td>...</td>\n",
       "      <td>...</td>\n",
       "      <td>...</td>\n",
       "      <td>...</td>\n",
       "      <td>...</td>\n",
       "      <td>...</td>\n",
       "      <td>...</td>\n",
       "      <td>...</td>\n",
       "      <td>...</td>\n",
       "      <td>...</td>\n",
       "      <td>...</td>\n",
       "      <td>...</td>\n",
       "      <td>...</td>\n",
       "      <td>...</td>\n",
       "    </tr>\n",
       "    <tr>\n",
       "      <th>951</th>\n",
       "      <td>0.9</td>\n",
       "      <td>0.9</td>\n",
       "      <td>0.9</td>\n",
       "      <td>0.9</td>\n",
       "      <td>0.9</td>\n",
       "      <td>0.9</td>\n",
       "      <td>0.9</td>\n",
       "      <td>0.9</td>\n",
       "      <td>0.9</td>\n",
       "      <td>0.8</td>\n",
       "      <td>...</td>\n",
       "      <td>0.8</td>\n",
       "      <td>0.8</td>\n",
       "      <td>0.65</td>\n",
       "      <td>0.65</td>\n",
       "      <td>0.65</td>\n",
       "      <td>0.5</td>\n",
       "      <td>0.5</td>\n",
       "      <td>0.3</td>\n",
       "      <td>0.3</td>\n",
       "      <td>0.0</td>\n",
       "    </tr>\n",
       "    <tr>\n",
       "      <th>961</th>\n",
       "      <td>0.9</td>\n",
       "      <td>0.9</td>\n",
       "      <td>0.9</td>\n",
       "      <td>0.9</td>\n",
       "      <td>0.9</td>\n",
       "      <td>0.9</td>\n",
       "      <td>0.9</td>\n",
       "      <td>0.9</td>\n",
       "      <td>0.9</td>\n",
       "      <td>0.8</td>\n",
       "      <td>...</td>\n",
       "      <td>0.8</td>\n",
       "      <td>0.8</td>\n",
       "      <td>0.65</td>\n",
       "      <td>0.65</td>\n",
       "      <td>0.65</td>\n",
       "      <td>0.5</td>\n",
       "      <td>0.5</td>\n",
       "      <td>0.3</td>\n",
       "      <td>0.3</td>\n",
       "      <td>0.0</td>\n",
       "    </tr>\n",
       "    <tr>\n",
       "      <th>971</th>\n",
       "      <td>0.9</td>\n",
       "      <td>0.9</td>\n",
       "      <td>0.9</td>\n",
       "      <td>0.9</td>\n",
       "      <td>0.9</td>\n",
       "      <td>0.9</td>\n",
       "      <td>0.9</td>\n",
       "      <td>0.9</td>\n",
       "      <td>0.9</td>\n",
       "      <td>0.8</td>\n",
       "      <td>...</td>\n",
       "      <td>0.8</td>\n",
       "      <td>0.8</td>\n",
       "      <td>0.65</td>\n",
       "      <td>0.65</td>\n",
       "      <td>0.65</td>\n",
       "      <td>0.5</td>\n",
       "      <td>0.5</td>\n",
       "      <td>0.3</td>\n",
       "      <td>0.3</td>\n",
       "      <td>0.0</td>\n",
       "    </tr>\n",
       "    <tr>\n",
       "      <th>981</th>\n",
       "      <td>0.9</td>\n",
       "      <td>0.9</td>\n",
       "      <td>0.9</td>\n",
       "      <td>0.9</td>\n",
       "      <td>0.9</td>\n",
       "      <td>0.9</td>\n",
       "      <td>0.9</td>\n",
       "      <td>0.9</td>\n",
       "      <td>0.9</td>\n",
       "      <td>0.8</td>\n",
       "      <td>...</td>\n",
       "      <td>0.8</td>\n",
       "      <td>0.8</td>\n",
       "      <td>0.65</td>\n",
       "      <td>0.65</td>\n",
       "      <td>0.65</td>\n",
       "      <td>0.5</td>\n",
       "      <td>0.5</td>\n",
       "      <td>0.3</td>\n",
       "      <td>0.3</td>\n",
       "      <td>0.0</td>\n",
       "    </tr>\n",
       "    <tr>\n",
       "      <th>991</th>\n",
       "      <td>0.9</td>\n",
       "      <td>0.9</td>\n",
       "      <td>0.9</td>\n",
       "      <td>0.9</td>\n",
       "      <td>0.9</td>\n",
       "      <td>0.9</td>\n",
       "      <td>0.9</td>\n",
       "      <td>0.9</td>\n",
       "      <td>0.9</td>\n",
       "      <td>0.8</td>\n",
       "      <td>...</td>\n",
       "      <td>0.8</td>\n",
       "      <td>0.8</td>\n",
       "      <td>0.65</td>\n",
       "      <td>0.65</td>\n",
       "      <td>0.65</td>\n",
       "      <td>0.5</td>\n",
       "      <td>0.5</td>\n",
       "      <td>0.3</td>\n",
       "      <td>0.3</td>\n",
       "      <td>0.0</td>\n",
       "    </tr>\n",
       "  </tbody>\n",
       "</table>\n",
       "<p>100 rows × 21 columns</p>\n",
       "</div>"
      ]
     },
     "execution_count": 352,
     "metadata": {},
     "output_type": "execute_result"
    }
   ],
   "execution_count": 352
  },
  {
   "metadata": {},
   "cell_type": "code",
   "outputs": [],
   "execution_count": null,
   "source": "",
   "id": "d236359e3127bad0"
  },
  {
   "metadata": {
    "ExecuteTime": {
     "end_time": "2025-07-17T13:15:39.703393Z",
     "start_time": "2025-07-17T13:15:39.696995Z"
    }
   },
   "cell_type": "code",
   "source": "df.loc[i,j]",
   "id": "740c453c87b36cd6",
   "outputs": [
    {
     "data": {
      "text/plain": [
       "np.int64(0)"
      ]
     },
     "execution_count": 348,
     "metadata": {},
     "output_type": "execute_result"
    }
   ],
   "execution_count": 348
  },
  {
   "metadata": {
    "ExecuteTime": {
     "end_time": "2025-07-17T13:20:28.220605Z",
     "start_time": "2025-07-17T13:20:28.215139Z"
    }
   },
   "cell_type": "code",
   "source": "np.exp(1 - 1000/1000)",
   "id": "cca5ecd6aea033d2",
   "outputs": [
    {
     "data": {
      "text/plain": [
       "np.float64(1.0)"
      ]
     },
     "execution_count": 361,
     "metadata": {},
     "output_type": "execute_result"
    }
   ],
   "execution_count": 361
  },
  {
   "metadata": {},
   "cell_type": "markdown",
   "source": "## Motivation des joueurs",
   "id": "8c90319d1eae9dd5"
  },
  {
   "metadata": {
    "ExecuteTime": {
     "end_time": "2025-07-17T13:40:44.404573Z",
     "start_time": "2025-07-17T13:40:44.396316Z"
    }
   },
   "cell_type": "code",
   "source": [
    "import numpy as np\n",
    "\n",
    "# Paramètres de base\n",
    "N_PLAYERS = 1000\n",
    "F_MAX     = 100   # échelle max de fatigue\n",
    "k         = 0.5   # sensibilité à la fatigue\n",
    "alpha     = 1.0   # pondération du classement\n",
    "\n",
    "tier_weight = {\n",
    "\t'GrandChelem': 1.0,\n",
    "\t'Masters1000': 0.9,\n",
    "\t'ATP500':     0.7,\n",
    "\t'ATP250':     0.5\n",
    "}\n",
    "def participation_prob(ranking, fatigue, tier,\n",
    "\t\t\t\t\t   N=N_PLAYERS, f_max=F_MAX,\n",
    "\t\t\t\t\t   k=k, alpha=alpha):\n",
    "\t# Normalisations\n",
    "\tr_norm = (ranking - 1) / (N - 1)\n",
    "\tf_norm = fatigue / f_max\n",
    "\n",
    "\t# Facteurs\n",
    "\tR = 1 - r_norm**alpha\n",
    "\tT = tier_weight.get(tier, 0.5)  # 0.5 par défaut si catégorie inconnue\n",
    "\tF = np.exp(-k * f_norm)\n",
    "\t# Proba finale\n",
    "\tP = T * F * R\n",
    "\treturn max(0.0, min(1.0, P))\n",
    "\n",
    "# Exemples\n",
    "print(participation_prob(1,   10, 'GrandChelem'))   # top-1 peu fatigué en GC\n",
    "print(participation_prob(1,   75, 'GrandChelem'))   # top-1 très fatigué en GC\n",
    "print(participation_prob(50,  80, 'ATP250'))        # joueur moyen très fatigué\n",
    "print(participation_prob(50,  10, 'ATP250'))        # joueur moyen très fatigué\n",
    "print(participation_prob(500, 20, 'Masters1000'))   # joueur bas milieu, fatigué modéré"
   ],
   "id": "820a756a84016820",
   "outputs": [
    {
     "name": "stdout",
     "output_type": "stream",
     "text": [
      "0.951229424500714\n",
      "0.6872892787909722\n",
      "0.3187207426095382\n",
      "0.4522862629007399\n",
      "0.4075844225387205\n"
     ]
    }
   ],
   "execution_count": 409
  },
  {
   "metadata": {
    "ExecuteTime": {
     "end_time": "2025-07-17T13:35:34.239301Z",
     "start_time": "2025-07-17T13:35:34.235835Z"
    }
   },
   "cell_type": "code",
   "source": [
    "f_norm = np.arange(0, 101) / 100\n",
    "k_range = [0.25,0.5,0.75,1,1.25,1.5,1.75,2]\n",
    "\n",
    "F = [np.exp(-k * f_norm) for k in k_range]"
   ],
   "id": "49e2f7316b5c79f8",
   "outputs": [],
   "execution_count": 394
  },
  {
   "metadata": {
    "ExecuteTime": {
     "end_time": "2025-07-17T13:35:06.884569Z",
     "start_time": "2025-07-17T13:35:06.879921Z"
    }
   },
   "cell_type": "code",
   "source": "k_range",
   "id": "e62a57d2699c9910",
   "outputs": [
    {
     "data": {
      "text/plain": [
       "array([0.  , 0.05, 0.1 , 0.15, 0.2 , 0.25, 0.3 , 0.35, 0.4 , 0.45, 0.5 ,\n",
       "       0.55, 0.6 , 0.65, 0.7 , 0.75, 0.8 , 0.85, 0.9 , 0.95, 1.  , 1.05,\n",
       "       1.1 , 1.15, 1.2 , 1.25, 1.3 , 1.35, 1.4 , 1.45, 1.5 , 1.55, 1.6 ,\n",
       "       1.65, 1.7 , 1.75, 1.8 , 1.85, 1.9 , 1.95, 2.  , 2.05, 2.1 , 2.15,\n",
       "       2.2 , 2.25, 2.3 , 2.35, 2.4 , 2.45])"
      ]
     },
     "execution_count": 393,
     "metadata": {},
     "output_type": "execute_result"
    }
   ],
   "execution_count": 393
  },
  {
   "metadata": {
    "ExecuteTime": {
     "end_time": "2025-07-17T13:35:35.895865Z",
     "start_time": "2025-07-17T13:35:35.821957Z"
    }
   },
   "cell_type": "code",
   "source": [
    "from matplotlib import pyplot as plt\n",
    "\n",
    "for i in range(len(k_range)):\n",
    "\tplt.plot(f_norm, F[i], label=f\"k={k_range[i]}\")\n",
    "\n",
    "plt.legend()\n",
    "plt.xlabel(\"Fatigue\")\n",
    "plt.ylabel(\"Proba fatigue\")\n",
    "plt.show()"
   ],
   "id": "fa9137b9fa165c17",
   "outputs": [
    {
     "data": {
      "text/plain": [
       "<Figure size 640x480 with 1 Axes>"
      ],
      "image/png": "[encoded data removed]"
     },
     "metadata": {},
     "output_type": "display_data"
    }
   ],
   "execution_count": 395
  }
 ],
 "metadata": {
  "kernelspec": {
   "display_name": "Python 3",
   "language": "python",
   "name": "python3"
  },
  "language_info": {
   "codemirror_mode": {
    "name": "ipython",
    "version": 2
   },
   "file_extension": ".py",
   "mimetype": "text/x-python",
   "name": "python",
   "nbconvert_exporter": "python",
   "pygments_lexer": "ipython2",
   "version": "2.7.6"
  }
 },
 "nbformat": 4,
 "nbformat_minor": 5
}
